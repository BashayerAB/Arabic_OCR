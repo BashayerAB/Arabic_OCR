{
  "nbformat": 4,
  "nbformat_minor": 0,
  "metadata": {
    "colab": {
      "provenance": [],
      "authorship_tag": "ABX9TyM3z1Ujo7FDBzJ/rVVQ71d2",
      "include_colab_link": true
    },
    "kernelspec": {
      "name": "python3",
      "display_name": "Python 3"
    },
    "language_info": {
      "name": "python"
    }
  },
  "cells": [
    {
      "cell_type": "markdown",
      "metadata": {
        "id": "view-in-github",
        "colab_type": "text"
      },
      "source": [
        "<a href=\"https://colab.research.google.com/github/BashayerAB/Arabic_OCR/blob/main/TrainingMINSTdataset.ipynb\" target=\"_parent\"><img src=\"https://colab.research.google.com/assets/colab-badge.svg\" alt=\"Open In Colab\"/></a>"
      ]
    },
    {
      "cell_type": "code",
      "execution_count": 2,
      "metadata": {
        "id": "K1l_9DndgXAl"
      },
      "outputs": [],
      "source": [
        "import torch"
      ]
    },
    {
      "cell_type": "code",
      "source": [
        "# Device configuration\n",
        "device = torch.device('cuda' if torch.cuda.is_available() else 'cpu')\n",
        "device"
      ],
      "metadata": {
        "colab": {
          "base_uri": "https://localhost:8080/"
        },
        "id": "nrYH39Qlgv8w",
        "outputId": "1eb80527-e1a4-40bf-87be-320960b861a2"
      },
      "execution_count": 3,
      "outputs": [
        {
          "output_type": "execute_result",
          "data": {
            "text/plain": [
              "device(type='cpu')"
            ]
          },
          "metadata": {},
          "execution_count": 3
        }
      ]
    },
    {
      "cell_type": "code",
      "source": [
        "from torchvision import datasets\n",
        "from torchvision.transforms import ToTensor\n",
        "train_data = datasets.MNIST(\n",
        "    root = 'data',\n",
        "    train = True,\n",
        "    transform = ToTensor(),\n",
        "    download = True,\n",
        ")\n",
        "test_data = datasets.MNIST(\n",
        "    root = 'data',\n",
        "    train = False,\n",
        "    transform = ToTensor()\n",
        ")"
      ],
      "metadata": {
        "colab": {
          "base_uri": "https://localhost:8080/"
        },
        "id": "JUHWSFrDgzYC",
        "outputId": "30ff66c1-3845-47b8-b57c-53eba456d2d0"
      },
      "execution_count": 4,
      "outputs": [
        {
          "output_type": "stream",
          "name": "stdout",
          "text": [
            "Downloading http://yann.lecun.com/exdb/mnist/train-images-idx3-ubyte.gz\n",
            "Downloading http://yann.lecun.com/exdb/mnist/train-images-idx3-ubyte.gz to data/MNIST/raw/train-images-idx3-ubyte.gz\n"
          ]
        },
        {
          "output_type": "stream",
          "name": "stderr",
          "text": [
            "100%|██████████| 9912422/9912422 [00:00<00:00, 154212578.80it/s]"
          ]
        },
        {
          "output_type": "stream",
          "name": "stdout",
          "text": [
            "Extracting data/MNIST/raw/train-images-idx3-ubyte.gz to data/MNIST/raw\n"
          ]
        },
        {
          "output_type": "stream",
          "name": "stderr",
          "text": [
            "\n"
          ]
        },
        {
          "output_type": "stream",
          "name": "stdout",
          "text": [
            "\n",
            "Downloading http://yann.lecun.com/exdb/mnist/train-labels-idx1-ubyte.gz\n",
            "Downloading http://yann.lecun.com/exdb/mnist/train-labels-idx1-ubyte.gz to data/MNIST/raw/train-labels-idx1-ubyte.gz\n"
          ]
        },
        {
          "output_type": "stream",
          "name": "stderr",
          "text": [
            "100%|██████████| 28881/28881 [00:00<00:00, 32615964.95it/s]\n"
          ]
        },
        {
          "output_type": "stream",
          "name": "stdout",
          "text": [
            "Extracting data/MNIST/raw/train-labels-idx1-ubyte.gz to data/MNIST/raw\n",
            "\n",
            "Downloading http://yann.lecun.com/exdb/mnist/t10k-images-idx3-ubyte.gz\n",
            "Downloading http://yann.lecun.com/exdb/mnist/t10k-images-idx3-ubyte.gz to data/MNIST/raw/t10k-images-idx3-ubyte.gz\n"
          ]
        },
        {
          "output_type": "stream",
          "name": "stderr",
          "text": [
            "100%|██████████| 1648877/1648877 [00:00<00:00, 64450183.56it/s]"
          ]
        },
        {
          "output_type": "stream",
          "name": "stdout",
          "text": [
            "Extracting data/MNIST/raw/t10k-images-idx3-ubyte.gz to data/MNIST/raw\n",
            "\n",
            "Downloading http://yann.lecun.com/exdb/mnist/t10k-labels-idx1-ubyte.gz\n"
          ]
        },
        {
          "output_type": "stream",
          "name": "stderr",
          "text": [
            "\n"
          ]
        },
        {
          "output_type": "stream",
          "name": "stdout",
          "text": [
            "Downloading http://yann.lecun.com/exdb/mnist/t10k-labels-idx1-ubyte.gz to data/MNIST/raw/t10k-labels-idx1-ubyte.gz\n"
          ]
        },
        {
          "output_type": "stream",
          "name": "stderr",
          "text": [
            "100%|██████████| 4542/4542 [00:00<00:00, 15941865.08it/s]\n"
          ]
        },
        {
          "output_type": "stream",
          "name": "stdout",
          "text": [
            "Extracting data/MNIST/raw/t10k-labels-idx1-ubyte.gz to data/MNIST/raw\n",
            "\n"
          ]
        }
      ]
    },
    {
      "cell_type": "code",
      "source": [
        "print(train_data)"
      ],
      "metadata": {
        "colab": {
          "base_uri": "https://localhost:8080/"
        },
        "id": "IXf4WtshhSjO",
        "outputId": "d3d19725-b446-42db-8631-81f2f5e7f04f"
      },
      "execution_count": 5,
      "outputs": [
        {
          "output_type": "stream",
          "name": "stdout",
          "text": [
            "Dataset MNIST\n",
            "    Number of datapoints: 60000\n",
            "    Root location: data\n",
            "    Split: Train\n",
            "    StandardTransform\n",
            "Transform: ToTensor()\n"
          ]
        }
      ]
    },
    {
      "cell_type": "code",
      "source": [
        "print(test_data)"
      ],
      "metadata": {
        "colab": {
          "base_uri": "https://localhost:8080/"
        },
        "id": "BxYFWcFwhXnN",
        "outputId": "eb393200-cdbb-4acf-90d4-fe39e5a0be40"
      },
      "execution_count": 6,
      "outputs": [
        {
          "output_type": "stream",
          "name": "stdout",
          "text": [
            "Dataset MNIST\n",
            "    Number of datapoints: 10000\n",
            "    Root location: data\n",
            "    Split: Test\n",
            "    StandardTransform\n",
            "Transform: ToTensor()\n"
          ]
        }
      ]
    },
    {
      "cell_type": "code",
      "source": [
        "print(train_data.data.size())"
      ],
      "metadata": {
        "colab": {
          "base_uri": "https://localhost:8080/"
        },
        "id": "nsstylr_haAz",
        "outputId": "82351629-4c73-42a3-8ea1-aca6314ceabc"
      },
      "execution_count": 7,
      "outputs": [
        {
          "output_type": "stream",
          "name": "stdout",
          "text": [
            "torch.Size([60000, 28, 28])\n"
          ]
        }
      ]
    },
    {
      "cell_type": "code",
      "source": [
        "print(train_data.targets.size())"
      ],
      "metadata": {
        "colab": {
          "base_uri": "https://localhost:8080/"
        },
        "id": "XxN8lDlKhf21",
        "outputId": "09fe99f8-e004-4326-da4d-da9cee3e6521"
      },
      "execution_count": 8,
      "outputs": [
        {
          "output_type": "stream",
          "name": "stdout",
          "text": [
            "torch.Size([60000])\n"
          ]
        }
      ]
    },
    {
      "cell_type": "code",
      "source": [
        "import matplotlib.pyplot as plt\n",
        "plt.imshow(train_data.data[0], cmap='gray')\n",
        "plt.title('%i' % train_data.targets[0])\n",
        "plt.show()"
      ],
      "metadata": {
        "colab": {
          "base_uri": "https://localhost:8080/",
          "height": 452
        },
        "id": "lquU2mI4hh6q",
        "outputId": "aa99c3a2-de1a-44b5-f8d2-a9a97a5f1a1f"
      },
      "execution_count": 9,
      "outputs": [
        {
          "output_type": "display_data",
          "data": {
            "text/plain": [
              "<Figure size 640x480 with 1 Axes>"
            ],
            "image/png": "[encoded data removed]"
          },
          "metadata": {}
        }
      ]
    },
    {
      "cell_type": "code",
      "source": [
        "figure = plt.figure(figsize=(10, 8))\n",
        "cols, rows = 5, 5\n",
        "for i in range(1, cols * rows + 1):\n",
        "    sample_idx = torch.randint(len(train_data), size=(1,)).item()\n",
        "    img, label = train_data[sample_idx]\n",
        "    figure.add_subplot(rows, cols, i)\n",
        "    plt.title(label)\n",
        "    plt.axis(\"off\")\n",
        "    plt.imshow(img.squeeze(), cmap=\"gray\")\n",
        "plt.show()"
      ],
      "metadata": {
        "colab": {
          "base_uri": "https://localhost:8080/",
          "height": 675
        },
        "id": "RE5-EttuhnPV",
        "outputId": "05cb13a1-e597-4ea1-ac21-9e4840a589c0"
      },
      "execution_count": 10,
      "outputs": [
        {
          "output_type": "display_data",
          "data": {
            "text/plain": [
              "<Figure size 1000x800 with 25 Axes>"
            ],
            "image/png": "[encoded data removed]"
          },
          "metadata": {}
        }
      ]
    },
    {
      "cell_type": "code",
      "source": [
        "from torch.utils.data import DataLoader\n",
        "loaders = {\n",
        "    'train' : torch.utils.data.DataLoader(train_data,\n",
        "                                          batch_size=100,\n",
        "                                          shuffle=True,\n",
        "                                          num_workers=1),\n",
        "\n",
        "    'test'  : torch.utils.data.DataLoader(test_data,\n",
        "                                          batch_size=100,\n",
        "                                          shuffle=True,\n",
        "                                          num_workers=1),\n",
        "}\n",
        "loaders"
      ],
      "metadata": {
        "colab": {
          "base_uri": "https://localhost:8080/"
        },
        "id": "I-yRvDRsij2u",
        "outputId": "66ea63cd-b88e-4ff8-8aa9-178d20c44589"
      },
      "execution_count": 11,
      "outputs": [
        {
          "output_type": "execute_result",
          "data": {
            "text/plain": [
              "{'train': <torch.utils.data.dataloader.DataLoader at 0x7c26d12fdcc0>,\n",
              " 'test': <torch.utils.data.dataloader.DataLoader at 0x7c26d12fd810>}"
            ]
          },
          "metadata": {},
          "execution_count": 11
        }
      ]
    },
    {
      "cell_type": "code",
      "source": [
        "import torch.nn as nn\n",
        "class CNN(nn.Module):\n",
        "    def __init__(self):\n",
        "        super(CNN, self).__init__()\n",
        "        self.conv1 = nn.Sequential(\n",
        "            nn.Conv2d(\n",
        "                in_channels=1,\n",
        "                out_channels=16,\n",
        "                kernel_size=5,\n",
        "                stride=1,\n",
        "                padding=2,\n",
        "            ),\n",
        "            nn.ReLU(),\n",
        "            nn.MaxPool2d(kernel_size=2),\n",
        "        )\n",
        "        self.conv2 = nn.Sequential(\n",
        "            nn.Conv2d(16, 32, 5, 1, 2),\n",
        "            nn.ReLU(),\n",
        "            nn.MaxPool2d(2),\n",
        "        )\n",
        "        # fully connected layer, output 10 classes\n",
        "        self.out = nn.Linear(32 * 7 * 7, 10)\n",
        "    def forward(self, x):\n",
        "        x = self.conv1(x)\n",
        "        x = self.conv2(x)\n",
        "        # flatten the output of conv2 to (batch_size, 32 * 7 * 7)\n",
        "        x = x.view(x.size(0), -1)\n",
        "        output = self.out(x)\n",
        "        return output, x    # return x for visualization"
      ],
      "metadata": {
        "id": "2uZUKXgXpEHA"
      },
      "execution_count": 12,
      "outputs": []
    },
    {
      "cell_type": "code",
      "source": [
        "cnn = CNN()\n",
        "print(cnn)"
      ],
      "metadata": {
        "colab": {
          "base_uri": "https://localhost:8080/"
        },
        "id": "_AzyA35ypKX-",
        "outputId": "f1cd6233-e612-47f0-b59b-a336412409ed"
      },
      "execution_count": 13,
      "outputs": [
        {
          "output_type": "stream",
          "name": "stdout",
          "text": [
            "CNN(\n",
            "  (conv1): Sequential(\n",
            "    (0): Conv2d(1, 16, kernel_size=(5, 5), stride=(1, 1), padding=(2, 2))\n",
            "    (1): ReLU()\n",
            "    (2): MaxPool2d(kernel_size=2, stride=2, padding=0, dilation=1, ceil_mode=False)\n",
            "  )\n",
            "  (conv2): Sequential(\n",
            "    (0): Conv2d(16, 32, kernel_size=(5, 5), stride=(1, 1), padding=(2, 2))\n",
            "    (1): ReLU()\n",
            "    (2): MaxPool2d(kernel_size=2, stride=2, padding=0, dilation=1, ceil_mode=False)\n",
            "  )\n",
            "  (out): Linear(in_features=1568, out_features=10, bias=True)\n",
            ")\n"
          ]
        }
      ]
    },
    {
      "cell_type": "code",
      "source": [
        "loss_func = nn.CrossEntropyLoss()\n",
        "loss_func"
      ],
      "metadata": {
        "colab": {
          "base_uri": "https://localhost:8080/"
        },
        "id": "i7mqc5bHpSF2",
        "outputId": "eac7ccef-4324-4261-eefc-f5fd8f1a673b"
      },
      "execution_count": 14,
      "outputs": [
        {
          "output_type": "execute_result",
          "data": {
            "text/plain": [
              "CrossEntropyLoss()"
            ]
          },
          "metadata": {},
          "execution_count": 14
        }
      ]
    },
    {
      "cell_type": "code",
      "source": [
        "from torch import optim\n",
        "optimizer = optim.Adam(cnn.parameters(), lr = 0.01)\n",
        "optimizer"
      ],
      "metadata": {
        "colab": {
          "base_uri": "https://localhost:8080/"
        },
        "id": "lLd_4SYTpa5j",
        "outputId": "8cf749cf-6712-4ea4-8716-70b4c5dfb48b"
      },
      "execution_count": 15,
      "outputs": [
        {
          "output_type": "execute_result",
          "data": {
            "text/plain": [
              "Adam (\n",
              "Parameter Group 0\n",
              "    amsgrad: False\n",
              "    betas: (0.9, 0.999)\n",
              "    capturable: False\n",
              "    differentiable: False\n",
              "    eps: 1e-08\n",
              "    foreach: None\n",
              "    fused: None\n",
              "    lr: 0.01\n",
              "    maximize: False\n",
              "    weight_decay: 0\n",
              ")"
            ]
          },
          "metadata": {},
          "execution_count": 15
        }
      ]
    },
    {
      "cell_type": "code",
      "source": [
        "from torch.autograd import Variable\n",
        "num_epochs = 10\n",
        "def train(num_epochs, cnn, loaders):\n",
        "\n",
        "    cnn.train()\n",
        "\n",
        "    # Train the model\n",
        "    total_step = len(loaders['train'])\n",
        "\n",
        "    for epoch in range(num_epochs):\n",
        "        for i, (images, labels) in enumerate(loaders['train']):\n",
        "\n",
        "            # gives batch data, normalize x when iterate train_loader\n",
        "            b_x = Variable(images)   # batch x\n",
        "            b_y = Variable(labels)   # batch y\n",
        "            output = cnn(b_x)[0]\n",
        "            loss = loss_func(output, b_y)\n",
        "\n",
        "            # clear gradients for this training step\n",
        "            optimizer.zero_grad()\n",
        "\n",
        "            # backpropagation, compute gradients\n",
        "            loss.backward()\n",
        "            # apply gradients\n",
        "            optimizer.step()\n",
        "\n",
        "            if (i+1) % 100 == 0:\n",
        "                print ('Epoch [{}/{}], Step [{}/{}], Loss: {:.4f}'\n",
        "                       .format(epoch + 1, num_epochs, i + 1, total_step, loss.item()))\n",
        "            pass\n",
        "\n",
        "        pass\n",
        "\n",
        "\n",
        "    pass\n",
        "train(num_epochs, cnn, loaders)"
      ],
      "metadata": {
        "colab": {
          "base_uri": "https://localhost:8080/"
        },
        "id": "kD0niHGRpqXB",
        "outputId": "81fa4c52-43a8-424e-cb7d-5161e43e9a4f"
      },
      "execution_count": 18,
      "outputs": [
        {
          "output_type": "stream",
          "name": "stdout",
          "text": [
            "Epoch [1/10], Step [100/600], Loss: 0.0960\n",
            "Epoch [1/10], Step [200/600], Loss: 0.1379\n",
            "Epoch [1/10], Step [300/600], Loss: 0.0811\n",
            "Epoch [1/10], Step [400/600], Loss: 0.1549\n",
            "Epoch [1/10], Step [500/600], Loss: 0.1260\n",
            "Epoch [1/10], Step [600/600], Loss: 0.0942\n",
            "Epoch [2/10], Step [100/600], Loss: 0.1181\n",
            "Epoch [2/10], Step [200/600], Loss: 0.0776\n",
            "Epoch [2/10], Step [300/600], Loss: 0.0646\n",
            "Epoch [2/10], Step [400/600], Loss: 0.0392\n",
            "Epoch [2/10], Step [500/600], Loss: 0.1235\n",
            "Epoch [2/10], Step [600/600], Loss: 0.0200\n",
            "Epoch [3/10], Step [100/600], Loss: 0.1329\n",
            "Epoch [3/10], Step [200/600], Loss: 0.0549\n",
            "Epoch [3/10], Step [300/600], Loss: 0.0479\n",
            "Epoch [3/10], Step [400/600], Loss: 0.0334\n",
            "Epoch [3/10], Step [500/600], Loss: 0.0358\n",
            "Epoch [3/10], Step [600/600], Loss: 0.0262\n",
            "Epoch [4/10], Step [100/600], Loss: 0.0396\n",
            "Epoch [4/10], Step [200/600], Loss: 0.2159\n",
            "Epoch [4/10], Step [300/600], Loss: 0.1078\n",
            "Epoch [4/10], Step [400/600], Loss: 0.0666\n",
            "Epoch [4/10], Step [500/600], Loss: 0.0540\n",
            "Epoch [4/10], Step [600/600], Loss: 0.0387\n",
            "Epoch [5/10], Step [100/600], Loss: 0.0360\n",
            "Epoch [5/10], Step [200/600], Loss: 0.2178\n",
            "Epoch [5/10], Step [300/600], Loss: 0.0331\n",
            "Epoch [5/10], Step [400/600], Loss: 0.0444\n",
            "Epoch [5/10], Step [500/600], Loss: 0.2284\n",
            "Epoch [5/10], Step [600/600], Loss: 0.1599\n",
            "Epoch [6/10], Step [100/600], Loss: 0.0394\n",
            "Epoch [6/10], Step [200/600], Loss: 0.0462\n",
            "Epoch [6/10], Step [300/600], Loss: 0.0557\n",
            "Epoch [6/10], Step [400/600], Loss: 0.0137\n",
            "Epoch [6/10], Step [500/600], Loss: 0.0680\n",
            "Epoch [6/10], Step [600/600], Loss: 0.0402\n",
            "Epoch [7/10], Step [100/600], Loss: 0.0376\n",
            "Epoch [7/10], Step [200/600], Loss: 0.0137\n",
            "Epoch [7/10], Step [300/600], Loss: 0.0745\n",
            "Epoch [7/10], Step [400/600], Loss: 0.0403\n",
            "Epoch [7/10], Step [500/600], Loss: 0.0457\n",
            "Epoch [7/10], Step [600/600], Loss: 0.1027\n",
            "Epoch [8/10], Step [100/600], Loss: 0.0246\n",
            "Epoch [8/10], Step [200/600], Loss: 0.0655\n",
            "Epoch [8/10], Step [300/600], Loss: 0.0042\n",
            "Epoch [8/10], Step [400/600], Loss: 0.0363\n",
            "Epoch [8/10], Step [500/600], Loss: 0.0104\n",
            "Epoch [8/10], Step [600/600], Loss: 0.0183\n",
            "Epoch [9/10], Step [100/600], Loss: 0.0147\n",
            "Epoch [9/10], Step [200/600], Loss: 0.0489\n",
            "Epoch [9/10], Step [300/600], Loss: 0.0302\n",
            "Epoch [9/10], Step [400/600], Loss: 0.0236\n",
            "Epoch [9/10], Step [500/600], Loss: 0.2008\n",
            "Epoch [9/10], Step [600/600], Loss: 0.0514\n",
            "Epoch [10/10], Step [100/600], Loss: 0.0277\n",
            "Epoch [10/10], Step [200/600], Loss: 0.0140\n",
            "Epoch [10/10], Step [300/600], Loss: 0.0509\n",
            "Epoch [10/10], Step [400/600], Loss: 0.0174\n",
            "Epoch [10/10], Step [500/600], Loss: 0.0317\n",
            "Epoch [10/10], Step [600/600], Loss: 0.0368\n"
          ]
        }
      ]
    },
    {
      "cell_type": "code",
      "source": [
        "def test():\n",
        "    # Test the model\n",
        "    cnn.eval()\n",
        "    with torch.no_grad():\n",
        "        correct = 0\n",
        "        total = 0\n",
        "        for images, labels in loaders['test']:\n",
        "            test_output, last_layer = cnn(images)\n",
        "            pred_y = torch.max(test_output, 1)[1].data.squeeze()\n",
        "            accuracy = (pred_y == labels).sum().item() / float(labels.size(0))\n",
        "            pass\n",
        "    print('Test Accuracy of the model on the 10000 test images: %.2f' % accuracy)\n",
        "\n",
        "    pass\n",
        "test()"
      ],
      "metadata": {
        "colab": {
          "base_uri": "https://localhost:8080/"
        },
        "id": "R73QBQjNp_i_",
        "outputId": "cd536977-7215-4733-d925-bde5439e68f9"
      },
      "execution_count": 19,
      "outputs": [
        {
          "output_type": "stream",
          "name": "stdout",
          "text": [
            "Test Accuracy of the model on the 10000 test images: 0.97\n"
          ]
        }
      ]
    },
    {
      "cell_type": "code",
      "source": [
        "sample = next(iter(loaders['test']))\n",
        "imgs, lbls = sample"
      ],
      "metadata": {
        "id": "JKQiLm2szAOv"
      },
      "execution_count": 20,
      "outputs": []
    },
    {
      "cell_type": "code",
      "source": [
        "actual_number = lbls[:10].numpy()\n",
        "actual_number"
      ],
      "metadata": {
        "colab": {
          "base_uri": "https://localhost:8080/"
        },
        "id": "hFYeDvI-zC1m",
        "outputId": "753d2c31-af13-4bf0-a288-21803ad42674"
      },
      "execution_count": 21,
      "outputs": [
        {
          "output_type": "execute_result",
          "data": {
            "text/plain": [
              "array([8, 6, 3, 2, 1, 7, 5, 5, 4, 4])"
            ]
          },
          "metadata": {},
          "execution_count": 21
        }
      ]
    },
    {
      "cell_type": "code",
      "source": [
        "test_output, last_layer = cnn(imgs[:10])\n",
        "pred_y = torch.max(test_output, 1)[1].data.numpy().squeeze()\n",
        "print(f'Prediction number: {pred_y}')\n",
        "print(f'Actual number: {actual_number}')"
      ],
      "metadata": {
        "colab": {
          "base_uri": "https://localhost:8080/"
        },
        "id": "W2k150Z8zJXk",
        "outputId": "cf2a938c-d26c-4dd5-fff1-8c051664a68a"
      },
      "execution_count": 22,
      "outputs": [
        {
          "output_type": "stream",
          "name": "stdout",
          "text": [
            "Prediction number: [8 6 3 2 1 7 5 5 4 4]\n",
            "Actual number: [8 6 3 2 1 7 5 5 4 4]\n"
          ]
        }
      ]
    },
    {
      "cell_type": "code",
      "source": [],
      "metadata": {
        "id": "hlD3bKh4zORH"
      },
      "execution_count": null,
      "outputs": []
    }
  ]
}