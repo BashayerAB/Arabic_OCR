{
  "nbformat": 4,
  "nbformat_minor": 0,
  "metadata": {
    "colab": {
      "provenance": [],
      "authorship_tag": "ABX9TyNrHWnqzIyXjjeLi9gU9mZd",
      "include_colab_link": true
    },
    "kernelspec": {
      "name": "python3",
      "display_name": "Python 3"
    },
    "language_info": {
      "name": "python"
    }
  },
  "cells": [
    {
      "cell_type": "markdown",
      "metadata": {
        "id": "view-in-github",
        "colab_type": "text"
      },
      "source": [
        "<a href=\"https://colab.research.google.com/github/BashayerAB/Arabic_OCR/blob/main/Training_AOCR_Classifier.ipynb\" target=\"_parent\"><img src=\"https://colab.research.google.com/assets/colab-badge.svg\" alt=\"Open In Colab\"/></a>"
      ]
    },
    {
      "cell_type": "code",
      "execution_count": 1,
      "metadata": {
        "id": "LBKQ9-S-0mHm"
      },
      "outputs": [],
      "source": [
        "import torch\n",
        "import torchvision\n",
        "from torch.utils.data import Dataset, DataLoader\n",
        "import torchvision.transforms as transforms\n",
        "from torchvision import transforms\n",
        "\n",
        "import cv2\n",
        "import os\n",
        "import pandas as pd\n",
        "from skimage import io"
      ]
    },
    {
      "cell_type": "code",
      "source": [
        "train_data =\"F:\\datasets\\archive\\Train Images 13440x32x32\"\n",
        "\n",
        "print (len(train_data))\n",
        "unique_cultivars = list(train_data.cultivar.unique())\n",
        "train_data['file']"
      ],
      "metadata": {
        "id": "l8hTO9wWPfS9"
      },
      "execution_count": null,
      "outputs": []
    },
    {
      "cell_type": "code",
      "source": [
        "class ArabicOCR(Dataset):\n",
        "  def __init__(self, dataframe, root_dir,is_train, transform=None):\n",
        "    self.dataframe = dataframe\n",
        "    self.root_dir = root_dir\n",
        "    self.transform = transform\n",
        "    self.is_train = is_train\n",
        "\n",
        "  def __len__(self):\n",
        "    return len(self.dataframe) #dataset size as all\n",
        "\n",
        "  def __getitem__(self, index):\n",
        "    #img_path = os.path.join(self.root_dir, self.annotations.iloc[index, 0])\n",
        "    #image = io.imread(img_path)\n",
        "    #y_label = torch.tensor(int(self.annotations.iloc[index, 1]))\n",
        "    if torch.is_tensor(index):\n",
        "      index = index.tolist()\n",
        "\n",
        "    img_name = os.path.join(self.root_dir,self.dataframe.iloc[index,0])\n",
        "\n",
        "    image1 = cv2.imread(img_name)\n",
        "    image1 = cv2.CLAHE(image1)\n",
        "    image = Image.fromarray(image1)\n",
        "    if self.is_train:\n",
        "      labelKey = self.dataframe.iloc[index, 1]\n",
        "      label = torch.tensor(int(label2id[labelkey]))\n",
        "\n",
        "    else :\n",
        "      label = torch.tensor(1)\n",
        "\n",
        "    if self.transform:\n",
        "      imgage = self.transform(image)\n",
        "\n",
        "    return image,label\n",
        "\n",
        "    ##if self.transform:\n",
        "      ##image = self.transform(image)\n",
        "\n",
        "    ##return(image,y_label)\n",
        "    return (y_label)"
      ],
      "metadata": {
        "id": "cV6RjVf9mv0N"
      },
      "execution_count": null,
      "outputs": []
    },
    {
      "cell_type": "code",
      "source": [
        "train_dir =\"F:\\datasets\\archive\\Train Images 13440x32x32\"\n",
        "test_dir =\"F:\\datasets\\archive\\Test Images 3360x32x32\""
      ],
      "metadata": {
        "id": "mEPq-MgGtaeg"
      },
      "execution_count": null,
      "outputs": []
    },
    {
      "cell_type": "code",
      "source": [
        "train_data_path =\"F:\\datasets\\archive\\csvTrainLabel 13440x1\"\n",
        "train_data = pd.read.csv(train_data_path,encoding = \"UTF-8\")\n",
        "\n",
        "train_data.head(5)\n"
      ],
      "metadata": {
        "colab": {
          "base_uri": "https://localhost:8080/",
          "height": 349
        },
        "id": "s4zfbtlxclU0",
        "outputId": "347a6115-2f65-4095-b33a-91b8b236b10c"
      },
      "execution_count": null,
      "outputs": [
        {
          "output_type": "error",
          "ename": "AttributeError",
          "evalue": "ignored",
          "traceback": [
            "\u001b[0;31m---------------------------------------------------------------------------\u001b[0m",
            "\u001b[0;31mAttributeError\u001b[0m                            Traceback (most recent call last)",
            "\u001b[0;32m<ipython-input-15-ec652c175418>\u001b[0m in \u001b[0;36m<cell line: 2>\u001b[0;34m()\u001b[0m\n\u001b[1;32m      1\u001b[0m \u001b[0mtrain_data_path\u001b[0m \u001b[0;34m=\u001b[0m\u001b[0;34m\"F:\\datasets\\archive\\csvTrainLabel 13440x1\"\u001b[0m\u001b[0;34m\u001b[0m\u001b[0;34m\u001b[0m\u001b[0m\n\u001b[0;32m----> 2\u001b[0;31m \u001b[0mtrain_data\u001b[0m \u001b[0;34m=\u001b[0m \u001b[0mpd\u001b[0m\u001b[0;34m.\u001b[0m\u001b[0mread\u001b[0m\u001b[0;34m.\u001b[0m\u001b[0mcsv\u001b[0m\u001b[0;34m(\u001b[0m\u001b[0mtrain_data_path\u001b[0m\u001b[0;34m,\u001b[0m\u001b[0mencoding\u001b[0m \u001b[0;34m=\u001b[0m \u001b[0;34m\"UTF-8\"\u001b[0m\u001b[0;34m)\u001b[0m\u001b[0;34m\u001b[0m\u001b[0;34m\u001b[0m\u001b[0m\n\u001b[0m\u001b[1;32m      3\u001b[0m \u001b[0;34m\u001b[0m\u001b[0m\n\u001b[1;32m      4\u001b[0m \u001b[0mtrain_data\u001b[0m\u001b[0;34m.\u001b[0m\u001b[0mhead\u001b[0m\u001b[0;34m(\u001b[0m\u001b[0;36m5\u001b[0m\u001b[0;34m)\u001b[0m\u001b[0;34m\u001b[0m\u001b[0;34m\u001b[0m\u001b[0m\n",
            "\u001b[0;32m/usr/local/lib/python3.10/dist-packages/pandas/__init__.py\u001b[0m in \u001b[0;36m__getattr__\u001b[0;34m(name)\u001b[0m\n\u001b[1;32m    262\u001b[0m         \u001b[0;32mreturn\u001b[0m \u001b[0m_SparseArray\u001b[0m\u001b[0;34m\u001b[0m\u001b[0;34m\u001b[0m\u001b[0m\n\u001b[1;32m    263\u001b[0m \u001b[0;34m\u001b[0m\u001b[0m\n\u001b[0;32m--> 264\u001b[0;31m     \u001b[0;32mraise\u001b[0m \u001b[0mAttributeError\u001b[0m\u001b[0;34m(\u001b[0m\u001b[0;34mf\"module 'pandas' has no attribute '{name}'\"\u001b[0m\u001b[0;34m)\u001b[0m\u001b[0;34m\u001b[0m\u001b[0;34m\u001b[0m\u001b[0m\n\u001b[0m\u001b[1;32m    265\u001b[0m \u001b[0;34m\u001b[0m\u001b[0m\n\u001b[1;32m    266\u001b[0m \u001b[0;34m\u001b[0m\u001b[0m\n",
            "\u001b[0;31mAttributeError\u001b[0m: module 'pandas' has no attribute 'read'"
          ]
        }
      ]
    },
    {
      "cell_type": "code",
      "source": [],
      "metadata": {
        "id": "j1gA_2sxplaY"
      },
      "execution_count": null,
      "outputs": []
    }
  ]
}